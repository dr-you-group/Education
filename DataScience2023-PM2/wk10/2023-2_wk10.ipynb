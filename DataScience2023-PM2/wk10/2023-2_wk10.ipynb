{
 "cells": [
  {
   "cell_type": "markdown",
   "metadata": {
    "id": "uN2FKTrP6n_i"
   },
   "source": [
    "# 데이터 사이언스 10주차\n",
    "## 강의 제목: 텍스트마이닝과 자연어처리\n",
    "## 강의 목적: 텍스트 형태로 주어진 데이터로부터 유용한 정보를 추출 및 가공할 수 있고, 컴퓨터가 인간의 언어 현상을 이해/해석/조작 할 수 있도록 구현하는 데 이해가 있는 예과생이 되는 것"
   ]
  },
  {
   "cell_type": "markdown",
   "metadata": {},
   "source": [
    "# 정규표현식 문법 \n",
    "\n",
    "|메타문자|설명|예|\n",
    "|:---|:---:|:---:|\n",
    "|.|한 개의 임의의 문자 (줄바꿈 문 ```\\n```는 제외)|c.t: cat, cbt, c6t...|\n",
    "|?|앞의 문자가 0개 또는 1개|ca?t: ct, cat|\n",
    "|*|앞의 문자가 0개 이상|ca*t: ct, cat, caat,...|\n",
    "|+|앞의 문자가 최소 1개 이상|ca+t: cat, caat, caaat,...|\n",
    "|^|뒤의 문자로 시작|^cat: cats and dogs... c[^a]t?|\n",
    "|\\$|앞의 문자로 문자열이 끝남|cat$: ...dog and cat|\n",
    "|{n}|숫자만큼 반복|ca{2}t: caat|\n",
    "|{n1, n2}|n1 이상 n2이하만큼 반복|ca{2,4}t: caat, caaat, caaaat|\n",
    "|{n,}|n이상 반복|ca{1,}t: cat, caat, caaat,....|\n",
    "|[ ]|대괄호 안의 문자들 중 한 개의 문자와 매치|c[abc]t: cat, cbt, cct|\n",
    "|\\||앞문자 또는 뒷문자|ca\\|bt: cat, cbt|\n",
    "|( )|정규식을 group으로 묶음|\n",
    "|[^문자]|해당 문자를 제외한 매치|"
   ]
  },
  {
   "cell_type": "markdown",
   "metadata": {},
   "source": [
    "# 're' 패키지\n",
    "\n",
    "## 파이썬은 정규 표현식을 지원하기 위해 re(regular expression의 약어) 모듈을 제공한다. re 모듈은 파이썬을 설치할 때 자동으로 설치되는 표준 라이브러리로 사용 방법은 다음과 같다.\n",
    "\n",
    "\n",
    "|Method|설명|\n",
    "|:---|:---:|\n",
    "|compile(pattern)|pattern을 컴파일하여 정규식 객체를 리턴|\n",
    "|search(pattern, string)|문자열 전체를 검색하여 정규식과 매치되는지 확인|\n",
    "|match(pattern, string)|문자열의 처음이 정규표현식과 매치되는지 확인|\n",
    "|split(pattern, string)|정규표현식으로 문자열을 분리하고 리스트로 리턴|\n",
    "|findall(pattern, string)|정규식과 매치되는 모든 문자열을 리스트로 리턴|\n",
    "|sub(pattern, repl, string)|문자열에서 패턴을 repl로 교체|"
   ]
  },
  {
   "cell_type": "markdown",
   "metadata": {},
   "source": [
    "# 예제 1 - re 패키지의 간단한 사용법"
   ]
  },
  {
   "cell_type": "code",
   "execution_count": 1,
   "metadata": {},
   "outputs": [],
   "source": [
    "import re"
   ]
  },
  {
   "cell_type": "code",
   "execution_count": 2,
   "metadata": {},
   "outputs": [
    {
     "data": {
      "text/plain": [
       "<re.Match object; span=(0, 1), match='1'>"
      ]
     },
     "execution_count": 2,
     "metadata": {},
     "output_type": "execute_result"
    }
   ],
   "source": [
    "# match 예제\n",
    "text_ex = \"1234 123\"\n",
    "m=re.match('[0-9]', text_ex)\n",
    "m"
   ]
  },
  {
   "cell_type": "code",
   "execution_count": 3,
   "metadata": {},
   "outputs": [
    {
     "data": {
      "text/plain": [
       "<re.Match object; span=(0, 4), match='1234'>"
      ]
     },
     "execution_count": 3,
     "metadata": {},
     "output_type": "execute_result"
    }
   ],
   "source": [
    "m=re.match('[0-9]+', text_ex)\n",
    "m"
   ]
  },
  {
   "cell_type": "code",
   "execution_count": 4,
   "metadata": {},
   "outputs": [
    {
     "data": {
      "text/plain": [
       "<re.Match object; span=(0, 8), match='1234 123'>"
      ]
     },
     "execution_count": 4,
     "metadata": {},
     "output_type": "execute_result"
    }
   ],
   "source": [
    "m=re.match('[0-9]+\\s[0-9]+', text_ex) \n",
    "m"
   ]
  },
  {
   "cell_type": "code",
   "execution_count": 5,
   "metadata": {},
   "outputs": [
    {
     "name": "stdout",
     "output_type": "stream",
     "text": [
      "None\n"
     ]
    }
   ],
   "source": [
    "m=re.match('\\s[0-9]+', text_ex)\n",
    "print(m)"
   ]
  },
  {
   "cell_type": "code",
   "execution_count": 6,
   "metadata": {},
   "outputs": [
    {
     "data": {
      "text/plain": [
       "<re.Match object; span=(0, 8), match='1234 123'>"
      ]
     },
     "execution_count": 6,
     "metadata": {},
     "output_type": "execute_result"
    }
   ],
   "source": [
    "m=re.match('\\d+\\s\\d+', text_ex)\n",
    "m"
   ]
  },
  {
   "cell_type": "markdown",
   "metadata": {},
   "source": [
    "# 자주 사용하는 문자 클래스\n",
    "## [0-9] 또는 [a-zA-Z] 등은 무척 자주 사용하는 정규 표현식이다. 이렇게 자주 사용하는 정규식은 별도의 표기법으로 표현할 수 있음\n",
    "\n",
    "|기호|설명|\n",
    "|:---|:---:|\n",
    "|\\\\|\\ 자체를 의미|\n",
    "|\\d|모든 숫자를 의미 [0-9]|\n",
    "|\\D|숫자가 아닌 문자[^0-9]|\n",
    "|\\s|화이트 스페이스를 의미 [\\t\\n\\r\\f\\v]|\n",
    "|\\S|화이트스페이스가 아닌 것 [^\\t\\n\\r\\f\\v]|\n",
    "|\\w|숫자 또는 문자를 의미 [a-zA=Z0-9]|\n",
    "|\\W|숫자 또는 문자가 아닌 것을 의미 [^a-zA=Z0-9]|\n",
    "|\\b|단어의 경계를 의미|\n",
    "|\\B|단어의 경계가 아닌 것을 의미|\n",
    "|\\(|괄호 자체를 의미|"
   ]
  },
  {
   "cell_type": "code",
   "execution_count": 7,
   "metadata": {},
   "outputs": [
    {
     "name": "stdout",
     "output_type": "stream",
     "text": [
      "Seng Chan You and my phone number is 010-90631-5678\n"
     ]
    }
   ],
   "source": [
    "# search 예제\n",
    "my_phone = \"My name is Seng Chan You and my phone number is 010-90631-5678 and my e-mail is sengchanyou@yuhs.ac\"\n",
    "m = re.search(\"name is (.*) and\", my_phone)\n",
    "print(m.group(1))"
   ]
  },
  {
   "cell_type": "code",
   "execution_count": 8,
   "metadata": {},
   "outputs": [
    {
     "name": "stdout",
     "output_type": "stream",
     "text": [
      "<re.Match object; span=(80, 99), match='sengchanyou@yuhs.ac'>\n"
     ]
    }
   ],
   "source": [
    "m = re.search(r'(\\S+@\\S+)',my_phone)\n",
    "print(m)"
   ]
  },
  {
   "cell_type": "code",
   "execution_count": 9,
   "metadata": {},
   "outputs": [
    {
     "name": "stdout",
     "output_type": "stream",
     "text": [
      "<re.Match object; span=(48, 62), match='010-90631-5678'>\n"
     ]
    }
   ],
   "source": [
    "m = re.search(r'01[01]-[\\d]{3,5}-[\\d]{4}',my_phone)\n",
    "print(m)"
   ]
  },
  {
   "cell_type": "code",
   "execution_count": 10,
   "metadata": {},
   "outputs": [
    {
     "name": "stdout",
     "output_type": "stream",
     "text": [
      "010-90631-5678\n"
     ]
    }
   ],
   "source": [
    "m = re.search(r\"(\\d+)-(\\d+)-(\\d+)\", my_phone)\n",
    "print(m.group(1)+'-'+ m.group(2)+'-'+ m.group(3))"
   ]
  },
  {
   "cell_type": "code",
   "execution_count": 11,
   "metadata": {},
   "outputs": [
    {
     "name": "stdout",
     "output_type": "stream",
     "text": [
      "I want to go home  I want to sleep\n"
     ]
    }
   ],
   "source": [
    "sample_text = 'I want to go home : I want to sleep'\n",
    "m=re.split(':', sample_text)\n",
    "print(m[0]+m[1])"
   ]
  },
  {
   "cell_type": "markdown",
   "metadata": {},
   "source": [
    "# 예제 2 - 비디오 가게 회원 정보 코딩 예제\n",
    "## 부모님께서 9년째 운영하고 계신 비디오 대여점은 회원 정보와 대여한 비디오 현황을 수기로 관리하고 있다. \n",
    "---\n",
    "### 회원번호: 201725119\n",
    "### 성명: 김철진\n",
    "### 회원 등록 날짜: 19/07/29 and 최근 대여 날짜: 23/01/01\n",
    "### 최근 빌린 영화: 타이타닉, 늑대의 유혹, 수퍼마리오브라더즈\n",
    "### A) 연체유무: 유\n",
    "### B) 기타메모: 일본에서 귀화한 사람임\n",
    "---\n",
    "## 디지털트랜스포메이션의 필요성을 느낀 여러분은 회원의 정보를 엑셀로 정리가 하고 싶어지면 다음과 같이 정규표현식을 활용할 수 있다."
   ]
  },
  {
   "cell_type": "code",
   "execution_count": 12,
   "metadata": {},
   "outputs": [
    {
     "name": "stdout",
     "output_type": "stream",
     "text": [
      "회원번호: 201725119\n",
      "성명: 김철진\n",
      "회원 등록 날짜: 19/07/29 and 최근 대여 날짜: 23/01/01\n",
      "최근 빌린 영화: 타이타닉, 늑대의 유혹, 수퍼마리오브라더즈\n",
      "A) 연체유무: 유\n",
      "B) 기타메모: 일본에서 귀화한 사람임\n"
     ]
    }
   ],
   "source": [
    "text = \"회원번호: 201725119\\n성명: 김철진\\n회원 등록 날짜: 19/07/29 and 최근 대여 날짜: 23/01/01\\n최근 빌린 영화: 타이타닉, 늑대의 유혹, 수퍼마리오브라더즈\\nA) 연체유무: 유\\nB) 기타메모: 일본에서 귀화한 사람임\"\n",
    "print(text)"
   ]
  },
  {
   "cell_type": "code",
   "execution_count": 13,
   "metadata": {},
   "outputs": [
    {
     "name": "stdout",
     "output_type": "stream",
     "text": [
      "201725119\n"
     ]
    }
   ],
   "source": [
    "# 회원번호를 식별하고 싶은 경우, 9자리 숫자임을 활용하여 추출\n",
    "m = re.search('\\d{9}', text)\n",
    "print(m.group(0))"
   ]
  },
  {
   "cell_type": "code",
   "execution_count": 14,
   "metadata": {},
   "outputs": [
    {
     "name": "stdout",
     "output_type": "stream",
     "text": [
      "['19/07/29', '23/01/01']\n"
     ]
    }
   ],
   "source": [
    "# 회원 등록 날짜 및 최근 대여 날짜가 궁금한 경우, 00/00/00 로 작성된 패턴을 활용하여 추출\n",
    "m = re.findall(r'[\\d]{2}/[\\d]{2}/[\\d]{2}', text)\n",
    "print(m)"
   ]
  },
  {
   "cell_type": "code",
   "execution_count": 15,
   "metadata": {},
   "outputs": [
    {
     "name": "stdout",
     "output_type": "stream",
     "text": [
      "김철진\n"
     ]
    }
   ],
   "source": [
    "# 이름을 식별하고 싶은 경우, \"성명:\" 뒤에 이름이 오는 패턴을 활용\n",
    "m = re.search(r\"(?<=성명: )\\w+\", text)\n",
    "print(m.group(0))"
   ]
  },
  {
   "cell_type": "code",
   "execution_count": 16,
   "metadata": {},
   "outputs": [
    {
     "name": "stdout",
     "output_type": "stream",
     "text": [
      "타이타닉\n",
      "늑대의 유혹\n",
      "수퍼마리오브라더즈\n"
     ]
    }
   ],
   "source": [
    "# 최근 빌린 영화를 각자 추출하려고 할 때, \"최근 빌린 영화:\" 다음에 영화 목록이 나오는 패턴을 활용\n",
    "m = re.search(r\"최근 빌린 영화: ([^,]+), ([^,]+), ([^,]+)\\s+A\\)\", text)\n",
    "\n",
    "print(m.group(1))  # 타이타닉\n",
    "print(m.group(2))  # 늑대의 유혹\n",
    "print(m.group(3))  # 수퍼마리오브라더즈"
   ]
  },
  {
   "cell_type": "markdown",
   "metadata": {},
   "source": [
    "------------------\n",
    "# 오늘의 과제\n",
    "\n",
    "## 20개의 병리기록지에서, 정규표현식을 사용하여 아래 표를 채우세요\n",
    "\n",
    "## 학번의 끝자리 별 과제 내용이 상이합니다\n",
    "\n",
    "### <center> 학번의 끝자리가 홀수인 경우: report date의 연도가 홀수인 환자 / 짝수인 경우 : report date의 연도가 짝수인 환자 </center>\n",
    "\n",
    "### <center> 학번의 끝자리가 0-4인 경우: lymphatic invasion이 있는 환자 / 5-9인 경우: lymphatic invasion이 없는 환자 </center>\n",
    "\n",
    "## 제출 방법: 학번의 끝자리에 맞게 주어진 결과를, 아래의 예시와 같이 실행하여 주피터 노트북을 저장한 후에 메일로 전송\n",
    "\n",
    "## 주의: 손으로 직접 떼어서 넣으면 0점입니다\n",
    "\n",
    "## 제출하는 곳: jeff4273@yonsei.ac.kr\n",
    "\n",
    "## 제출기한: 5월 9일 (화) 23시 59분\n",
    "------------------\n",
    "### 예시 (학번: 20231511011)\n",
    "\n",
    "\n",
    "|환자번호|enroll date|report date|specimen|site|procedure|diagnosis|lymphatic invasion|metastasis|T staging|N staging|M staging|\n",
    "|---|:---:|:---:|---:|:---:|:---:|:---:|:---:|:---:|:---:|:---:|:---:|\n",
    "|1|2017-05-07|2017-05-12|thyroid|Lt|Hemithyroidectomy|papillary carcinoma|1|0|T1a|N1|M0|"
   ]
  },
  {
   "cell_type": "code",
   "execution_count": 17,
   "metadata": {},
   "outputs": [],
   "source": [
    "# 즐거운 과제 시작!"
   ]
  }
 ],
 "metadata": {
  "colab": {
   "authorship_tag": "ABX9TyMsH+Kia6HOCN0dLxgsOHpA",
   "provenance": []
  },
  "kernelspec": {
   "display_name": "Python 3 (ipykernel)",
   "language": "python",
   "name": "python3"
  },
  "language_info": {
   "codemirror_mode": {
    "name": "ipython",
    "version": 3
   },
   "file_extension": ".py",
   "mimetype": "text/x-python",
   "name": "python",
   "nbconvert_exporter": "python",
   "pygments_lexer": "ipython3",
   "version": "3.11.3"
  }
 },
 "nbformat": 4,
 "nbformat_minor": 1
}
